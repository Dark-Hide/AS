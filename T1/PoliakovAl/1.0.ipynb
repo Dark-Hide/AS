{
 "cells": [
  {
   "cell_type": "code",
   "execution_count": null,
   "metadata": {},
   "outputs": [],
   "source": [
    "a=float(input(\"Enter D:\"))\n",
    "x=float(input(\"Enter H:\"))\n",
    "b=float(input(\"Enter m:\"))\n",
    "y=2*3.14*x*a\n",
    "c=1.57*a*a\n",
    "n=(c+y)//b\n",
    "if (y+c)%b !=0 : \n",
    "    n = n+1\n",
    "print (\"%d\" % n)"
   ]
  }
 ],
 "metadata": {
  "kernelspec": {
   "display_name": "Python 3",
   "language": "python",
   "name": "python3"
  },
  "language_info": {
   "codemirror_mode": {
    "name": "ipython",
    "version": 3
   },
   "file_extension": ".py",
   "mimetype": "text/x-python",
   "name": "python",
   "nbconvert_exporter": "python",
   "pygments_lexer": "ipython3",
   "version": "3.5.4"
  }
 },
 "nbformat": 4,
 "nbformat_minor": 2
}
