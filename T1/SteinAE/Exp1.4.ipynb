A=""
print("Enter the string")
str=input()
str = str.split()

for i in range(len(str)) :
    A+=(str[i]+"*")
A = A[:-1]
print (A)