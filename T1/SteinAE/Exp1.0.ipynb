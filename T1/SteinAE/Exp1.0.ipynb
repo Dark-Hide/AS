import math
print("Enter tank diametr")
D = float(input())
print("Enter tank height")
H = float(input())
print("Enter how much can you paint with one paint can")
O = float(input())
print("To paint inner and outer walls of tank you need: ")
print(round((D * math.pi * H * 2 + math.pi * (D/2)**2 * 4) / O),"paint cans")