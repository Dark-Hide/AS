arr = []
uniq = 1
print("Enter the elements (element '*q' will stop entering)")
i = 0
arr.append(input())
while arr[i] != "*q":
    arr.append(input())
    i+=1
arr.pop()
print (arr)
for j in arr:
    if arr.count(j) > 1:
        uniq = 0
        break
if uniq == 1:
    print ("All elements are unique")
else:
    print ("Not all elements are unique")