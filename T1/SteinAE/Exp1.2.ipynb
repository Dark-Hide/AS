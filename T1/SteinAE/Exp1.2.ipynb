print("Enter the amount of elements, then the elements")
arr1 = []
for i in range(int(input())):
    arr1.append(int(input()))
print("Enter the amount of elements, then the elements")
arr2 = []
for i in range(int(input())):
    arr2.append(int(input()))

i=0
for a in arr1:
    arr1[i] = a/max(arr1)
    i+=1
i=0            
for b in arr2:
    arr2[i] = b/max(arr2)
    i+=1
            
print(arr1)
print(arr2)