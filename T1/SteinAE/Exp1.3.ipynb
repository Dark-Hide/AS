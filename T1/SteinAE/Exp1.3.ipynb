print("Enter the number")
List=list(input())
for i in reversed(List):
    print(i,end='')