{
 "cells": [
  {
   "cell_type": "code",
   "execution_count": 4,
   "metadata": {},
   "outputs": [
    {
     "name": "stdout",
     "output_type": "stream",
     "text": [
      "[40, 10, 33, 48, 45, 42, 19, 29, 6, 28]\n",
      "Все элементы уникальны\n"
     ]
    }
   ],
   "source": [
    "from random import random\n",
    "N = 10 \n",
    "arr = [0] * N\n",
    "for i in range(N):\n",
    "    arr[i] = int(random() * 50)\n",
    "print(arr)\n",
    "for i in range(N-1):\n",
    "    for j in range(i+1,N):\n",
    "        if arr[i] == arr[j]:\n",
    "            print(\"Есть одинаковые\")\n",
    "            quit()\n",
    "print(\"Все элементы уникальны\")"
   ]
  },
  {
   "cell_type": "code",
   "execution_count": null,
   "metadata": {},
   "outputs": [],
   "source": []
  },
  {
   "cell_type": "code",
   "execution_count": null,
   "metadata": {},
   "outputs": [],
   "source": []
  },
  {
   "cell_type": "code",
   "execution_count": null,
   "metadata": {},
   "outputs": [],
   "source": []
  },
  {
   "cell_type": "code",
   "execution_count": null,
   "metadata": {},
   "outputs": [],
   "source": []
  },
  {
   "cell_type": "code",
   "execution_count": null,
   "metadata": {},
   "outputs": [],
   "source": []
  },
  {
   "cell_type": "code",
   "execution_count": 2,
   "metadata": {},
   "outputs": [
    {
     "name": "stdout",
     "output_type": "stream",
     "text": [
      "[17, 21, 44, 10, 10, 18, 46, 35, 39, 48]\n",
      "Есть одинаковые\n"
     ]
    }
   ],
   "source": [
    "from random import random\n",
    "N = 10 \n",
    "arr = [0] * N\n",
    "for i in range(N):\n",
    "    arr[i] = int(random() * 50)\n",
    "print(arr)\n",
    "setarr = set(arr)\n",
    "if len(arr) == len(setarr):\n",
    "    print(\"Все элементы уникальны\")\n",
    "else:\n",
    "    print(\"Есть одинаковые\")"
   ]
  },
  {
   "cell_type": "code",
   "execution_count": null,
   "metadata": {},
   "outputs": [],
   "source": []
  },
  {
   "cell_type": "code",
   "execution_count": null,
   "metadata": {},
   "outputs": [],
   "source": []
  }
 ],
 "metadata": {
  "kernelspec": {
   "display_name": "Python 3",
   "language": "python",
   "name": "python3"
  },
  "language_info": {
   "codemirror_mode": {
    "name": "ipython",
    "version": 3
   },
   "file_extension": ".py",
   "mimetype": "text/x-python",
   "name": "python",
   "nbconvert_exporter": "python",
   "pygments_lexer": "ipython3",
   "version": "3.6.3"
  }
 },
 "nbformat": 4,
 "nbformat_minor": 2
}
