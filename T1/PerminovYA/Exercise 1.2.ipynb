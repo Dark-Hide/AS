{
 "cells": [
  {
   "cell_type": "code",
   "execution_count": null,
   "metadata": {},
   "outputs": [
    {
     "name": "stdout",
     "output_type": "stream",
     "text": [
      "Вводите количество элементов, минимум и максимум через пробел\n",
      "(для завершения оставьте пустую строку)\n",
      "\n",
      "20 1 10\n",
      "[4, 5, 4, 10, 9, 4, 1, 8, 2, 2, 10, 5, 10, 6, 4, 9, 7, 3, 9, 8]\n",
      "0.40 0.50 0.40 1.00 0.90 0.40 0.10 0.80 0.20 0.20 1.00 0.50 1.00 0.60 0.40 0.90 0.70 0.30 0.90 0.80 \n",
      "max = 10\n",
      "\n"
     ]
    }
   ],
   "source": [
    "from random import random\n",
    " \n",
    "def make_list(n, mn, mx):\n",
    "    a = []\n",
    "    for i in range(n):\n",
    "        b = int(random() * (mx - mn + 1)) + mn\n",
    "        a.append(b)\n",
    "    return a\n",
    " \n",
    "def max_div(a):\n",
    "    b = max(a)\n",
    "    for i in a:\n",
    "        print('%.2f ' % (i/b), end='')\n",
    "    print()\n",
    "    print('max =', b)\n",
    " \n",
    "print('Вводите количество элементов, минимум и максимум через пробел')\n",
    "print('(для завершения оставьте пустую строку)')\n",
    "while 1:\n",
    "    print()\n",
    "    data = input()\n",
    "    if data == '': break\n",
    "    data = data.split()\n",
    "    mylist = make_list(int(data[0]), int(data[1]), int(data[2]))\n",
    "    print(mylist)\n",
    "    max_div(mylist)"
   ]
  },
  {
   "cell_type": "code",
   "execution_count": null,
   "metadata": {},
   "outputs": [],
   "source": []
  }
 ],
 "metadata": {
  "kernelspec": {
   "display_name": "Python 3",
   "language": "python",
   "name": "python3"
  },
  "language_info": {
   "codemirror_mode": {
    "name": "ipython",
    "version": 3
   },
   "file_extension": ".py",
   "mimetype": "text/x-python",
   "name": "python",
   "nbconvert_exporter": "python",
   "pygments_lexer": "ipython3",
   "version": "3.6.3"
  }
 },
 "nbformat": 4,
 "nbformat_minor": 2
}
