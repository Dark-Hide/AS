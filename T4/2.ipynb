{
 "cells": [
  {
   "cell_type": "code",
   "execution_count": 12,
   "metadata": {},
   "outputs": [
    {
     "name": "stdout",
     "output_type": "stream",
     "text": [
      "5\n",
      "[1, 1, 2, 2, 2, 4, 7, 8, 10, 11, 11, 13, 14, 17, 19]\n"
     ]
    }
   ],
   "source": [
    "import random\n",
    "import math\n",
    "#n = int(input(\"Введите количество элементов\"))\n",
    "n=15\n",
    "a = []\n",
    "c = []\n",
    "for i in range(n):\n",
    "    new = random.randint(1,20)\n",
    "    a.append(new)\n",
    "maxV = max(a)\n",
    "minV = min(a)\n",
    "size = 4\n",
    "count = math.floor((maxV - minV) / size) + 1\n",
    "b = []\n",
    "for i in range(count):\n",
    "    b.append([])\n",
    "for i in range(n):\n",
    "    b[math.floor((a[i] - minV) / size)].append(a[i])\n",
    "for i in range(count):\n",
    "    b[i] = sorted(b[i])   \n",
    "for i in range(count):\n",
    "    for j in range(len(b[i])):\n",
    "        c.append(b[i][j])\n",
    "print(c)\n",
    "\n",
    "        "
   ]
  },
  {
   "cell_type": "code",
   "execution_count": null,
   "metadata": {},
   "outputs": [],
   "source": []
  },
  {
   "cell_type": "code",
   "execution_count": null,
   "metadata": {},
   "outputs": [],
   "source": []
  },
  {
   "cell_type": "code",
   "execution_count": null,
   "metadata": {},
   "outputs": [],
   "source": []
  },
  {
   "cell_type": "code",
   "execution_count": null,
   "metadata": {},
   "outputs": [],
   "source": []
  },
  {
   "cell_type": "code",
   "execution_count": null,
   "metadata": {},
   "outputs": [],
   "source": []
  },
  {
   "cell_type": "code",
   "execution_count": null,
   "metadata": {},
   "outputs": [],
   "source": []
  }
 ],
 "metadata": {
  "kernelspec": {
   "display_name": "Python 3",
   "language": "python",
   "name": "python3"
  },
  "language_info": {
   "name": ""
  }
 },
 "nbformat": 4,
 "nbformat_minor": 2
}
