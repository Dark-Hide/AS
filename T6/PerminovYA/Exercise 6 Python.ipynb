{
 "cells": [
  {
   "cell_type": "code",
   "execution_count": 5,
   "metadata": {},
   "outputs": [
    {
     "name": "stdout",
     "output_type": "stream",
     "text": [
      "Введите количество элементов 5\n",
      "Введите 0 элемент 5\n",
      "Введите 1 элемент 4\n",
      "Введите 2 элемент 3\n",
      "Введите 3 элемент 2\n",
      "Введите 4 элемент 1\n",
      "5\n",
      "1\n",
      "2\n",
      "3\n",
      "4\n",
      "5\n"
     ]
    }
   ],
   "source": [
    "a = []\n",
    "def size():\n",
    "    c = 0\n",
    "    for i in range(len(a)):\n",
    "        c = c + 1\n",
    "    return c\n",
    "def isEmpty():\n",
    "    global a\n",
    "    if(size() == 0):\n",
    "        return 1\n",
    "    else:\n",
    "        return 0\n",
    "def push(new):\n",
    "    global a\n",
    "    a.append(new)\n",
    "def top():\n",
    "    global a \n",
    "    return a[size()-1]\n",
    "def pop():\n",
    "    global a\n",
    "    del a[size()-1]\n",
    "n = int(input(\"Введите количество элементов \"))\n",
    "for i in range(n):\n",
    "    new = int(input(\"Введите %i элемент \" % i))\n",
    "    push(new)\n",
    "print(size())\n",
    "while (isEmpty() == 0):\n",
    "    print(top())\n",
    "    pop()"
   ]
  },
  {
   "cell_type": "code",
   "execution_count": null,
   "metadata": {},
   "outputs": [],
   "source": []
  }
 ],
 "metadata": {
  "kernelspec": {
   "display_name": "Python 3",
   "language": "python",
   "name": "python3"
  },
  "language_info": {
   "codemirror_mode": {
    "name": "ipython",
    "version": 3
   },
   "file_extension": ".py",
   "mimetype": "text/x-python",
   "name": "python",
   "nbconvert_exporter": "python",
   "pygments_lexer": "ipython3",
   "version": "3.6.3"
  }
 },
 "nbformat": 4,
 "nbformat_minor": 2
}
