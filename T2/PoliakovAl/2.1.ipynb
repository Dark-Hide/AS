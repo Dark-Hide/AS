{
 "cells": [
  {
   "cell_type": "code",
   "execution_count": null,
   "metadata": {},
   "outputs": [],
   "source": [
    "def prostoe(x):\n",
    "    for i in range(2,x+1):\n",
    "        b = 0\n",
    "        for j in range(2,i):\n",
    "            if i%j==0:\n",
    "                b=1\n",
    "                break\n",
    "        if b==0:\n",
    "            print(i);\n",
    "a=int(input(\"Введите число:\"))\n",
    "prostoe(a)"
   ]
  },
  {
   "cell_type": "code",
   "execution_count": null,
   "metadata": {},
   "outputs": [],
   "source": []
  }
 ],
 "metadata": {
  "kernelspec": {
   "display_name": "Python 3",
   "language": "python",
   "name": "python3"
  },
  "language_info": {
   "codemirror_mode": {
    "name": "ipython",
    "version": 3
   },
   "file_extension": ".py",
   "mimetype": "text/x-python",
   "name": "python",
   "nbconvert_exporter": "python",
   "pygments_lexer": "ipython3",
   "version": "3.5.4"
  }
 },
 "nbformat": 4,
 "nbformat_minor": 2
}
