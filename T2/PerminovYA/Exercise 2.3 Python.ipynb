{
 "cells": [
  {
   "cell_type": "code",
   "execution_count": 3,
   "metadata": {},
   "outputs": [
    {
     "name": "stdout",
     "output_type": "stream",
     "text": [
      "[-46, 43, -20, 27, 26, 24, 2, -32, 29, -29, 30, -41, -12, 19, 25, -1, 47, 35, -12, -11]\n",
      "Индексы элементов: 3 5 10\n",
      "27 * 24 * 30 = 19440\n"
     ]
    }
   ],
   "source": [
    "import random\n",
    "a = [round(random.random() * 100) - 50 for i in range(20)]\n",
    "print(a)\n",
    " \n",
    "i = j = 0\n",
    "i1 = i3 = i6 = -1\n",
    "while i < 20:\n",
    "    if a[i] > 0:\n",
    "        if j == 1:\n",
    "            i1 = i\n",
    "        elif j == 3:\n",
    "            i3 = i\n",
    "        elif j == 6:\n",
    "            i6 = i\n",
    "            break\n",
    "        j += 1\n",
    "    i += 1\n",
    " \n",
    "if i6 > 0:\n",
    "    mult = a[i1] * a[i3] * a[i6]\n",
    "    print(\"Индексы элементов:\", i1, i3, i6)\n",
    "    print(\"%d * %d * %d = %d\" % (a[i1], a[i3], a[i6], mult))"
   ]
  },
  {
   "cell_type": "code",
   "execution_count": null,
   "metadata": {},
   "outputs": [],
   "source": []
  }
 ],
 "metadata": {
  "kernelspec": {
   "display_name": "Python 3",
   "language": "python",
   "name": "python3"
  },
  "language_info": {
   "codemirror_mode": {
    "name": "ipython",
    "version": 3
   },
   "file_extension": ".py",
   "mimetype": "text/x-python",
   "name": "python",
   "nbconvert_exporter": "python",
   "pygments_lexer": "ipython3",
   "version": "3.6.3"
  }
 },
 "nbformat": 4,
 "nbformat_minor": 2
}
