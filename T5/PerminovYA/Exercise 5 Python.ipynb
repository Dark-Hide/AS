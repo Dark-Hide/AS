{
 "cells": [
  {
   "cell_type": "code",
   "execution_count": 5,
   "metadata": {},
   "outputs": [
    {
     "name": "stdout",
     "output_type": "stream",
     "text": [
      "[1, 35, 45, 63, 65, 90, 90, 235, 323, 754, 967]\n"
     ]
    }
   ],
   "source": [
    "def radixSort(aList):\n",
    "    Radix = 10\n",
    "    maxLength = False\n",
    "    tmp, placement = -1, 1\n",
    "    \n",
    "    while not maxLength:\n",
    "        maxLength = True\n",
    "        buckets = [list() for _ in range(Radix)]\n",
    "        for i in aList:\n",
    "            tmp = i // placement\n",
    "            buckets[tmp % Radix].append(i)\n",
    "            if maxLength and tmp > 0:\n",
    "                maxLength = False\n",
    "        a = 0\n",
    "        for b in range(Radix):\n",
    "            buck = buckets[b]\n",
    "            for i in buck:\n",
    "                aList[a] = i\n",
    "                a += 1\n",
    "        placement *= Radix\n",
    "    return aList\n",
    "\n",
    "a = radixSort([35,1,754,65,235,90,967,63,90,323,45])\n",
    "print(a)"
   ]
  },
  {
   "cell_type": "code",
   "execution_count": null,
   "metadata": {},
   "outputs": [],
   "source": []
  }
 ],
 "metadata": {
  "kernelspec": {
   "display_name": "Python 3",
   "language": "python",
   "name": "python3"
  },
  "language_info": {
   "codemirror_mode": {
    "name": "ipython",
    "version": 3
   },
   "file_extension": ".py",
   "mimetype": "text/x-python",
   "name": "python",
   "nbconvert_exporter": "python",
   "pygments_lexer": "ipython3",
   "version": "3.6.3"
  }
 },
 "nbformat": 4,
 "nbformat_minor": 2
}
